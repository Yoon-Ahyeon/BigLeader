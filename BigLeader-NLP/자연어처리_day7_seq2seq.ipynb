{
  "cells": [
    {
      "cell_type": "code",
      "execution_count": 11,
      "metadata": {
        "id": "IfN4gZMKh0yc"
      },
      "outputs": [],
      "source": [
        "import pandas as pd\n",
        "import urllib3\n",
        "import tensorflow as tf\n",
        "from tensorflow.keras.preprocessing.sequence import pad_sequences\n",
        "from tensorflow.keras.utils import to_categorical"
      ]
    },
    {
      "cell_type": "code",
      "execution_count": 12,
      "metadata": {
        "colab": {
          "base_uri": "https://localhost:8080/",
          "height": 35
        },
        "id": "u96cUwlDgItj",
        "outputId": "8b2ddd6c-e8b0-44f2-87dd-a59bed60ff42"
      },
      "outputs": [
        {
          "data": {
            "text/plain": [
              "'2.13.0'"
            ]
          },
          "execution_count": 12,
          "metadata": {},
          "output_type": "execute_result"
        }
      ],
      "source": [
        "tf.__version__"
      ]
    },
    {
      "cell_type": "code",
      "execution_count": 13,
      "metadata": {
        "colab": {
          "base_uri": "https://localhost:8080/"
        },
        "id": "sdt-athJibxC",
        "outputId": "98994de7-1bef-4754-9abc-f75e1f8e18ef"
      },
      "outputs": [
        {
          "name": "stdout",
          "output_type": "stream",
          "text": [
            "전체 샘플의 개수 : 227815\n"
          ]
        }
      ],
      "source": [
        "df = pd.read_csv(\"C:/py_temp/ChatGPT/fra.txt\", names=['src', 'tar', 'lic'], sep='\\t')\n",
        "del df['lic']\n",
        "print('전체 샘플의 개수 :',len(df))"
      ]
    },
    {
      "cell_type": "code",
      "execution_count": 39,
      "metadata": {},
      "outputs": [
        {
          "data": {
            "text/html": [
              "<div>\n",
              "<style scoped>\n",
              "    .dataframe tbody tr th:only-of-type {\n",
              "        vertical-align: middle;\n",
              "    }\n",
              "\n",
              "    .dataframe tbody tr th {\n",
              "        vertical-align: top;\n",
              "    }\n",
              "\n",
              "    .dataframe thead th {\n",
              "        text-align: right;\n",
              "    }\n",
              "</style>\n",
              "<table border=\"1\" class=\"dataframe\">\n",
              "  <thead>\n",
              "    <tr style=\"text-align: right;\">\n",
              "      <th></th>\n",
              "      <th>src</th>\n",
              "      <th>tar</th>\n",
              "    </tr>\n",
              "  </thead>\n",
              "  <tbody>\n",
              "    <tr>\n",
              "      <th>0</th>\n",
              "      <td>Go.</td>\n",
              "      <td>\\t Va ! \\n</td>\n",
              "    </tr>\n",
              "    <tr>\n",
              "      <th>1</th>\n",
              "      <td>Go.</td>\n",
              "      <td>\\t Marche. \\n</td>\n",
              "    </tr>\n",
              "    <tr>\n",
              "      <th>2</th>\n",
              "      <td>Go.</td>\n",
              "      <td>\\t En route ! \\n</td>\n",
              "    </tr>\n",
              "    <tr>\n",
              "      <th>3</th>\n",
              "      <td>Go.</td>\n",
              "      <td>\\t Bouge ! \\n</td>\n",
              "    </tr>\n",
              "    <tr>\n",
              "      <th>4</th>\n",
              "      <td>Hi.</td>\n",
              "      <td>\\t Salut ! \\n</td>\n",
              "    </tr>\n",
              "    <tr>\n",
              "      <th>...</th>\n",
              "      <td>...</td>\n",
              "      <td>...</td>\n",
              "    </tr>\n",
              "    <tr>\n",
              "      <th>59995</th>\n",
              "      <td>These are my students.</td>\n",
              "      <td>\\t Ce sont mes élèves. \\n</td>\n",
              "    </tr>\n",
              "    <tr>\n",
              "      <th>59996</th>\n",
              "      <td>These aren't my ideas.</td>\n",
              "      <td>\\t Ce ne sont pas mes idées. \\n</td>\n",
              "    </tr>\n",
              "    <tr>\n",
              "      <th>59997</th>\n",
              "      <td>These books are Tom's.</td>\n",
              "      <td>\\t Ces livres sont à Tom. \\n</td>\n",
              "    </tr>\n",
              "    <tr>\n",
              "      <th>59998</th>\n",
              "      <td>These books are heavy.</td>\n",
              "      <td>\\t Ces livres sont lourds. \\n</td>\n",
              "    </tr>\n",
              "    <tr>\n",
              "      <th>59999</th>\n",
              "      <td>These boxes are heavy.</td>\n",
              "      <td>\\t Ces boîtes sont lourdes. \\n</td>\n",
              "    </tr>\n",
              "  </tbody>\n",
              "</table>\n",
              "<p>60000 rows × 2 columns</p>\n",
              "</div>"
            ],
            "text/plain": [
              "                          src                              tar\n",
              "0                         Go.                       \\t Va ! \\n\n",
              "1                         Go.                    \\t Marche. \\n\n",
              "2                         Go.                 \\t En route ! \\n\n",
              "3                         Go.                    \\t Bouge ! \\n\n",
              "4                         Hi.                    \\t Salut ! \\n\n",
              "...                       ...                              ...\n",
              "59995  These are my students.        \\t Ce sont mes élèves. \\n\n",
              "59996  These aren't my ideas.  \\t Ce ne sont pas mes idées. \\n\n",
              "59997  These books are Tom's.     \\t Ces livres sont à Tom. \\n\n",
              "59998  These books are heavy.    \\t Ces livres sont lourds. \\n\n",
              "59999  These boxes are heavy.   \\t Ces boîtes sont lourdes. \\n\n",
              "\n",
              "[60000 rows x 2 columns]"
            ]
          },
          "execution_count": 39,
          "metadata": {},
          "output_type": "execute_result"
        }
      ],
      "source": [
        "df"
      ]
    },
    {
      "cell_type": "code",
      "execution_count": 14,
      "metadata": {
        "colab": {
          "base_uri": "https://localhost:8080/",
          "height": 363
        },
        "id": "OJWHLXyricub",
        "outputId": "3bc3176a-3950-443a-cde0-70feba3bdc3a"
      },
      "outputs": [
        {
          "data": {
            "text/html": [
              "<div>\n",
              "<style scoped>\n",
              "    .dataframe tbody tr th:only-of-type {\n",
              "        vertical-align: middle;\n",
              "    }\n",
              "\n",
              "    .dataframe tbody tr th {\n",
              "        vertical-align: top;\n",
              "    }\n",
              "\n",
              "    .dataframe thead th {\n",
              "        text-align: right;\n",
              "    }\n",
              "</style>\n",
              "<table border=\"1\" class=\"dataframe\">\n",
              "  <thead>\n",
              "    <tr style=\"text-align: right;\">\n",
              "      <th></th>\n",
              "      <th>src</th>\n",
              "      <th>tar</th>\n",
              "    </tr>\n",
              "  </thead>\n",
              "  <tbody>\n",
              "    <tr>\n",
              "      <th>17225</th>\n",
              "      <td>That isn't mine.</td>\n",
              "      <td>Ce n'est pas à moi.</td>\n",
              "    </tr>\n",
              "    <tr>\n",
              "      <th>31728</th>\n",
              "      <td>Are you frightened?</td>\n",
              "      <td>Êtes-vous effrayés ?</td>\n",
              "    </tr>\n",
              "    <tr>\n",
              "      <th>33615</th>\n",
              "      <td>I know you love me.</td>\n",
              "      <td>Je sais que tu m'aimes.</td>\n",
              "    </tr>\n",
              "    <tr>\n",
              "      <th>9406</th>\n",
              "      <td>Throw Tom out.</td>\n",
              "      <td>Jetez Tom dehors.</td>\n",
              "    </tr>\n",
              "    <tr>\n",
              "      <th>6045</th>\n",
              "      <td>My legs hurt.</td>\n",
              "      <td>J’ai mal aux jambes.</td>\n",
              "    </tr>\n",
              "    <tr>\n",
              "      <th>49050</th>\n",
              "      <td>I think you're lying.</td>\n",
              "      <td>Je pense que tu mens.</td>\n",
              "    </tr>\n",
              "    <tr>\n",
              "      <th>44674</th>\n",
              "      <td>We aren't that poor.</td>\n",
              "      <td>Nous ne sommes pas si pauvres.</td>\n",
              "    </tr>\n",
              "    <tr>\n",
              "      <th>47059</th>\n",
              "      <td>Everybody was silent.</td>\n",
              "      <td>Tout le monde fut silencieux.</td>\n",
              "    </tr>\n",
              "    <tr>\n",
              "      <th>14975</th>\n",
              "      <td>He studied hard.</td>\n",
              "      <td>Il étudiait avec application.</td>\n",
              "    </tr>\n",
              "    <tr>\n",
              "      <th>35659</th>\n",
              "      <td>She made him happy.</td>\n",
              "      <td>Elle l'a rendu heureux.</td>\n",
              "    </tr>\n",
              "  </tbody>\n",
              "</table>\n",
              "</div>"
            ],
            "text/plain": [
              "                         src                             tar\n",
              "17225       That isn't mine.             Ce n'est pas à moi.\n",
              "31728    Are you frightened?            Êtes-vous effrayés ?\n",
              "33615    I know you love me.         Je sais que tu m'aimes.\n",
              "9406          Throw Tom out.               Jetez Tom dehors.\n",
              "6045           My legs hurt.            J’ai mal aux jambes.\n",
              "49050  I think you're lying.           Je pense que tu mens.\n",
              "44674   We aren't that poor.  Nous ne sommes pas si pauvres.\n",
              "47059  Everybody was silent.   Tout le monde fut silencieux.\n",
              "14975       He studied hard.   Il étudiait avec application.\n",
              "35659    She made him happy.         Elle l'a rendu heureux."
            ]
          },
          "execution_count": 14,
          "metadata": {},
          "output_type": "execute_result"
        }
      ],
      "source": [
        "df = df.loc[:, 'src':'tar']\n",
        "df = df[0:60000] # 6만개만 저장\n",
        "df.sample(10)"
      ]
    },
    {
      "cell_type": "code",
      "execution_count": 15,
      "metadata": {
        "colab": {
          "base_uri": "https://localhost:8080/",
          "height": 363
        },
        "id": "HC80PHpgidj6",
        "outputId": "8cc7327d-9894-404f-e2ef-83aa324473e2"
      },
      "outputs": [
        {
          "data": {
            "text/html": [
              "<div>\n",
              "<style scoped>\n",
              "    .dataframe tbody tr th:only-of-type {\n",
              "        vertical-align: middle;\n",
              "    }\n",
              "\n",
              "    .dataframe tbody tr th {\n",
              "        vertical-align: top;\n",
              "    }\n",
              "\n",
              "    .dataframe thead th {\n",
              "        text-align: right;\n",
              "    }\n",
              "</style>\n",
              "<table border=\"1\" class=\"dataframe\">\n",
              "  <thead>\n",
              "    <tr style=\"text-align: right;\">\n",
              "      <th></th>\n",
              "      <th>src</th>\n",
              "      <th>tar</th>\n",
              "    </tr>\n",
              "  </thead>\n",
              "  <tbody>\n",
              "    <tr>\n",
              "      <th>32597</th>\n",
              "      <td>He can't handle it.</td>\n",
              "      <td>\\t Il ne parvient pas à le gérer. \\n</td>\n",
              "    </tr>\n",
              "    <tr>\n",
              "      <th>16721</th>\n",
              "      <td>Let me try that.</td>\n",
              "      <td>\\t Laisse-moi essayer ça. \\n</td>\n",
              "    </tr>\n",
              "    <tr>\n",
              "      <th>51801</th>\n",
              "      <td>They won't come back.</td>\n",
              "      <td>\\t Ils ne vont pas revenir. \\n</td>\n",
              "    </tr>\n",
              "    <tr>\n",
              "      <th>41325</th>\n",
              "      <td>I want to be useful.</td>\n",
              "      <td>\\t Je veux être utile. \\n</td>\n",
              "    </tr>\n",
              "    <tr>\n",
              "      <th>2804</th>\n",
              "      <td>You're big.</td>\n",
              "      <td>\\t Vous êtes grand. \\n</td>\n",
              "    </tr>\n",
              "    <tr>\n",
              "      <th>10403</th>\n",
              "      <td>Be a good girl.</td>\n",
              "      <td>\\t Soyez une chic fille ! \\n</td>\n",
              "    </tr>\n",
              "    <tr>\n",
              "      <th>23080</th>\n",
              "      <td>This dog is mine.</td>\n",
              "      <td>\\t Ce chien est à moi. \\n</td>\n",
              "    </tr>\n",
              "    <tr>\n",
              "      <th>57733</th>\n",
              "      <td>I'll make some coffee.</td>\n",
              "      <td>\\t Je ferai un peu de café. \\n</td>\n",
              "    </tr>\n",
              "    <tr>\n",
              "      <th>28166</th>\n",
              "      <td>It's one of those.</td>\n",
              "      <td>\\t C'est une de celles-là. \\n</td>\n",
              "    </tr>\n",
              "    <tr>\n",
              "      <th>25735</th>\n",
              "      <td>Everything is new.</td>\n",
              "      <td>\\t Tout est nouveau. \\n</td>\n",
              "    </tr>\n",
              "  </tbody>\n",
              "</table>\n",
              "</div>"
            ],
            "text/plain": [
              "                          src                                   tar\n",
              "32597     He can't handle it.  \\t Il ne parvient pas à le gérer. \\n\n",
              "16721        Let me try that.          \\t Laisse-moi essayer ça. \\n\n",
              "51801   They won't come back.        \\t Ils ne vont pas revenir. \\n\n",
              "41325    I want to be useful.             \\t Je veux être utile. \\n\n",
              "2804              You're big.                \\t Vous êtes grand. \\n\n",
              "10403         Be a good girl.          \\t Soyez une chic fille ! \\n\n",
              "23080       This dog is mine.             \\t Ce chien est à moi. \\n\n",
              "57733  I'll make some coffee.        \\t Je ferai un peu de café. \\n\n",
              "28166      It's one of those.         \\t C'est une de celles-là. \\n\n",
              "25735      Everything is new.               \\t Tout est nouveau. \\n"
            ]
          },
          "execution_count": 15,
          "metadata": {},
          "output_type": "execute_result"
        }
      ],
      "source": [
        "# <sos>, <eos> 나타내주기\n",
        "df.tar = df.tar.apply(lambda x : '\\t '+ x + ' \\n')\n",
        "df.sample(10)"
      ]
    },
    {
      "cell_type": "code",
      "execution_count": 16,
      "metadata": {
        "id": "p5VyYPo3iedy"
      },
      "outputs": [],
      "source": [
        "# 글자 집합 구축 \n",
        "#영어\n",
        "src_vocab = set()\n",
        "for line in df.src: # 1줄씩 읽음\n",
        "    for char in line: # 1개의 글자씩 읽음\n",
        "        src_vocab.add(char)\n",
        "\n",
        "#불어\n",
        "tar_vocab = set()\n",
        "for line in df.tar:\n",
        "    for char in line:\n",
        "        tar_vocab.add(char)"
      ]
    },
    {
      "cell_type": "code",
      "execution_count": 17,
      "metadata": {
        "colab": {
          "base_uri": "https://localhost:8080/"
        },
        "id": "zfg9pOB7ifgK",
        "outputId": "389a27d9-a940-4da5-858e-2f5e4884ebc1"
      },
      "outputs": [
        {
          "name": "stdout",
          "output_type": "stream",
          "text": [
            "source 문장의 char 집합 : 80\n",
            "target 문장의 char 집합 : 104\n"
          ]
        }
      ],
      "source": [
        "src_vocab_size = len(src_vocab)+1\n",
        "tar_vocab_size = len(tar_vocab)+1\n",
        "print('source 문장의 char 집합 :',src_vocab_size) #영어 80가지 문자\n",
        "print('target 문장의 char 집합 :',tar_vocab_size) #불어 104가지 문자"
      ]
    },
    {
      "cell_type": "code",
      "execution_count": 18,
      "metadata": {
        "colab": {
          "base_uri": "https://localhost:8080/"
        },
        "id": "pJJolPvRignC",
        "outputId": "50ed8f48-c96d-4162-a989-3bbb7d0c7bed"
      },
      "outputs": [
        {
          "name": "stdout",
          "output_type": "stream",
          "text": [
            "['W', 'X', 'Y', 'Z', 'a', 'b', 'c', 'd', 'e', 'f', 'g', 'h', 'i', 'j', 'k', 'l', 'm', 'n', 'o', 'p', 'q', 'r', 's', 't', 'u', 'v', 'w', 'x', 'y', 'z']\n",
            "['T', 'U', 'V', 'W', 'X', 'Y', 'a', 'b', 'c', 'd', 'e', 'f', 'g', 'h', 'i', 'j', 'k', 'l', 'm', 'n', 'o', 'p', 'q', 'r', 's', 't', 'u', 'v', 'w', 'x']\n"
          ]
        }
      ],
      "source": [
        "#아스키코드 기준 정렬\n",
        "src_vocab = sorted(list(src_vocab))\n",
        "tar_vocab = sorted(list(tar_vocab))\n",
        "print(src_vocab[45:75])\n",
        "print(tar_vocab[45:75])"
      ]
    },
    {
      "cell_type": "code",
      "execution_count": 19,
      "metadata": {
        "colab": {
          "base_uri": "https://localhost:8080/"
        },
        "id": "WQusbB6GiiH7",
        "outputId": "08eb90f5-85cd-451c-f3b0-421d446c13bb"
      },
      "outputs": [
        {
          "name": "stdout",
          "output_type": "stream",
          "text": [
            "{' ': 1, '!': 2, '\"': 3, '$': 4, '%': 5, '&': 6, \"'\": 7, ',': 8, '-': 9, '.': 10, '/': 11, '0': 12, '1': 13, '2': 14, '3': 15, '4': 16, '5': 17, '6': 18, '7': 19, '8': 20, '9': 21, ':': 22, '?': 23, 'A': 24, 'B': 25, 'C': 26, 'D': 27, 'E': 28, 'F': 29, 'G': 30, 'H': 31, 'I': 32, 'J': 33, 'K': 34, 'L': 35, 'M': 36, 'N': 37, 'O': 38, 'P': 39, 'Q': 40, 'R': 41, 'S': 42, 'T': 43, 'U': 44, 'V': 45, 'W': 46, 'X': 47, 'Y': 48, 'Z': 49, 'a': 50, 'b': 51, 'c': 52, 'd': 53, 'e': 54, 'f': 55, 'g': 56, 'h': 57, 'i': 58, 'j': 59, 'k': 60, 'l': 61, 'm': 62, 'n': 63, 'o': 64, 'p': 65, 'q': 66, 'r': 67, 's': 68, 't': 69, 'u': 70, 'v': 71, 'w': 72, 'x': 73, 'y': 74, 'z': 75, 'é': 76, 'ï': 77, '’': 78, '€': 79}\n",
            "{'\\t': 1, '\\n': 2, ' ': 3, '!': 4, '\"': 5, '$': 6, '%': 7, '&': 8, \"'\": 9, '(': 10, ')': 11, ',': 12, '-': 13, '.': 14, '0': 15, '1': 16, '2': 17, '3': 18, '4': 19, '5': 20, '6': 21, '7': 22, '8': 23, '9': 24, ':': 25, '?': 26, 'A': 27, 'B': 28, 'C': 29, 'D': 30, 'E': 31, 'F': 32, 'G': 33, 'H': 34, 'I': 35, 'J': 36, 'K': 37, 'L': 38, 'M': 39, 'N': 40, 'O': 41, 'P': 42, 'Q': 43, 'R': 44, 'S': 45, 'T': 46, 'U': 47, 'V': 48, 'W': 49, 'X': 50, 'Y': 51, 'a': 52, 'b': 53, 'c': 54, 'd': 55, 'e': 56, 'f': 57, 'g': 58, 'h': 59, 'i': 60, 'j': 61, 'k': 62, 'l': 63, 'm': 64, 'n': 65, 'o': 66, 'p': 67, 'q': 68, 'r': 69, 's': 70, 't': 71, 'u': 72, 'v': 73, 'w': 74, 'x': 75, 'y': 76, 'z': 77, '\\xa0': 78, '«': 79, '»': 80, 'À': 81, 'Ç': 82, 'É': 83, 'Ê': 84, 'Ô': 85, 'à': 86, 'â': 87, 'ç': 88, 'è': 89, 'é': 90, 'ê': 91, 'ë': 92, 'î': 93, 'ï': 94, 'ô': 95, 'ù': 96, 'û': 97, 'œ': 98, '\\u2009': 99, '‘': 100, '’': 101, '\\u202f': 102, '‽': 103}\n"
          ]
        }
      ],
      "source": [
        "#인덱스 정의 (공백도 생성된다!)\n",
        "src_to_index = dict([(word, i+1) for i, word in enumerate(src_vocab)])\n",
        "tar_to_index = dict([(word, i+1) for i, word in enumerate(tar_vocab)])\n",
        "print(src_to_index)\n",
        "print(tar_to_index)"
      ]
    },
    {
      "attachments": {
        "image.png": {
          "image/png": "[encoded data removed]"
        }
      },
      "cell_type": "markdown",
      "metadata": {},
      "source": [
        "![image.png](attachment:image.png)\n",
        "\n",
        "이 구조에 인코더 입력, 디코터 입출력이 다 나와있음 !!"
      ]
    },
    {
      "cell_type": "code",
      "execution_count": 20,
      "metadata": {
        "colab": {
          "base_uri": "https://localhost:8080/"
        },
        "id": "OeHzq5rNijWS",
        "outputId": "fb3874a3-7e6b-4dd6-84ba-a9bd087bce3e"
      },
      "outputs": [
        {
          "name": "stdout",
          "output_type": "stream",
          "text": [
            "source 문장의 정수 인코딩 : [[30, 64, 10], [30, 64, 10], [30, 64, 10], [30, 64, 10], [31, 58, 10]]\n"
          ]
        }
      ],
      "source": [
        "#인코더 입력 \n",
        "encoder_input = []\n",
        "\n",
        "# 1개의 문장\n",
        "for line in df.src:\n",
        "  enc_line = []\n",
        "  # 각 줄에서 1개의 char\n",
        "  for char in line:\n",
        "    # 각 char을 정수로 변환\n",
        "    enc_line.append(src_to_index[char])\n",
        "  encoder_input.append(enc_line)\n",
        "print('source 문장의 정수 인코딩 :',encoder_input[:5])"
      ]
    },
    {
      "cell_type": "code",
      "execution_count": 21,
      "metadata": {
        "colab": {
          "base_uri": "https://localhost:8080/"
        },
        "id": "5MFjg8quikj6",
        "outputId": "49256d66-f6a8-4454-c365-4e73b268919f"
      },
      "outputs": [
        {
          "name": "stdout",
          "output_type": "stream",
          "text": [
            "target 문장의 정수 인코딩 : [[1, 3, 48, 52, 3, 4, 3, 2], [1, 3, 39, 52, 69, 54, 59, 56, 14, 3, 2], [1, 3, 31, 65, 3, 69, 66, 72, 71, 56, 3, 4, 3, 2], [1, 3, 28, 66, 72, 58, 56, 3, 4, 3, 2], [1, 3, 45, 52, 63, 72, 71, 3, 4, 3, 2]]\n"
          ]
        }
      ],
      "source": [
        "#디코더 입력 - 교사 강요 알고리즘 사용하여 예측을 하기 때문에 정답 데이터도 같이 넣어준다. \n",
        "dec_input = []\n",
        "for line in df.tar:\n",
        "  enc_line = []\n",
        "  for char in line:\n",
        "    enc_line.append(tar_to_index[char])\n",
        "  dec_input.append(enc_line)\n",
        "print('target 문장의 정수 인코딩 :',dec_input[:5])"
      ]
    },
    {
      "cell_type": "code",
      "execution_count": 22,
      "metadata": {
        "colab": {
          "base_uri": "https://localhost:8080/"
        },
        "id": "-6RS186uilqK",
        "outputId": "d34463d7-77a1-4432-d922-3e55fc8393fe"
      },
      "outputs": [
        {
          "name": "stdout",
          "output_type": "stream",
          "text": [
            "target 문장 레이블의 정수 인코딩 : [[3, 48, 52, 3, 4, 3, 2], [3, 39, 52, 69, 54, 59, 56, 14, 3, 2], [3, 31, 65, 3, 69, 66, 72, 71, 56, 3, 4, 3, 2], [3, 28, 66, 72, 58, 56, 3, 4, 3, 2], [3, 45, 52, 63, 72, 71, 3, 4, 3, 2]]\n"
          ]
        }
      ],
      "source": [
        "#정답 Encoding 값 (디코더 출력) - 예측값과 실제값 사이 손실함수 계산\n",
        "dec_target = []\n",
        "for line in df.tar:\n",
        "  timestep = 0\n",
        "  enc_line = []\n",
        "  for char in line:\n",
        "    if timestep > 0:\n",
        "      enc_line.append(tar_to_index[char])\n",
        "    timestep = timestep + 1\n",
        "  dec_target.append(enc_line)\n",
        "print('target 문장 레이블의 정수 인코딩 :',dec_target[:5])"
      ]
    },
    {
      "cell_type": "code",
      "execution_count": 23,
      "metadata": {
        "colab": {
          "base_uri": "https://localhost:8080/"
        },
        "id": "1Zlq71juimoy",
        "outputId": "87a3a0e4-fa31-4f83-92ad-ba17fe91ebe6"
      },
      "outputs": [
        {
          "name": "stdout",
          "output_type": "stream",
          "text": [
            "source 문장의 최대 길이 : 22\n",
            "target 문장의 최대 길이 : 76\n"
          ]
        }
      ],
      "source": [
        "max_src_len = max([len(line) for line in df.src])\n",
        "max_tar_len = max([len(line) for line in df.tar])\n",
        "print('source 문장의 최대 길이 :',max_src_len)\n",
        "print('target 문장의 최대 길이 :',max_tar_len)"
      ]
    },
    {
      "cell_type": "code",
      "execution_count": 24,
      "metadata": {
        "id": "FcnFgd9Zinsa"
      },
      "outputs": [],
      "source": [
        "#Padding (같은 길이로 만들어준다.)\n",
        "encoder_input = pad_sequences(encoder_input, maxlen=max_src_len, padding='post')\n",
        "dec_input = pad_sequences(dec_input, maxlen=max_tar_len, padding='post')\n",
        "dec_target = pad_sequences(dec_target, maxlen=max_tar_len, padding='post')"
      ]
    },
    {
      "cell_type": "code",
      "execution_count": 25,
      "metadata": {
        "id": "EcXSOrECio3C"
      },
      "outputs": [],
      "source": [
        "# 단어 범주화\n",
        "encoder_input = to_categorical(encoder_input) #80개의 영단어 인코딩 \n",
        "dec_input = to_categorical(dec_input) #104개의 불어 인코딩\n",
        "dec_target = to_categorical(dec_target) #104개의 불어 인코딩 (정답)"
      ]
    },
    {
      "cell_type": "code",
      "execution_count": 26,
      "metadata": {
        "id": "0GqUpQ_Rippq"
      },
      "outputs": [],
      "source": [
        "import numpy as np\n",
        "from tensorflow.keras.layers import Input, LSTM, Embedding, Dense\n",
        "from tensorflow.keras.models import Model"
      ]
    },
    {
      "cell_type": "code",
      "execution_count": 36,
      "metadata": {},
      "outputs": [
        {
          "data": {
            "text/plain": [
              "(60000, 22, 80)"
            ]
          },
          "execution_count": 36,
          "metadata": {},
          "output_type": "execute_result"
        }
      ],
      "source": [
        "encoder_input.shape #60,000개의 문장 분석, 문자 최대 길이(22개) - 하나의 문장을 구상하는 최대 길이, 문자 종류 80가지 "
      ]
    },
    {
      "cell_type": "code",
      "execution_count": 38,
      "metadata": {},
      "outputs": [
        {
          "data": {
            "text/plain": [
              "array([[0., 0., 0., ..., 0., 0., 0.],\n",
              "       [0., 0., 0., ..., 0., 0., 0.],\n",
              "       [0., 0., 0., ..., 0., 0., 0.],\n",
              "       ...,\n",
              "       [1., 0., 0., ..., 0., 0., 0.],\n",
              "       [1., 0., 0., ..., 0., 0., 0.],\n",
              "       [1., 0., 0., ..., 0., 0., 0.]], dtype=float32)"
            ]
          },
          "execution_count": 38,
          "metadata": {},
          "output_type": "execute_result"
        }
      ],
      "source": [
        "encoder_input[0] #80차원 문자 표현 - 문자를 1개씩 표현한다. (열의 개수 80개, 행의 개수 22개)"
      ]
    },
    {
      "cell_type": "markdown",
      "metadata": {},
      "source": [
        "### Train"
      ]
    },
    {
      "cell_type": "markdown",
      "metadata": {},
      "source": [
        "#### 인코더 설계"
      ]
    },
    {
      "cell_type": "code",
      "execution_count": 27,
      "metadata": {
        "id": "C9blN5WziqtS"
      },
      "outputs": [],
      "source": [
        "## (None, 80)을 가진 문자 하나하나가 각각의 LSTM 셀에 넘어간다. \n",
        "encoder_inputs = Input(shape=(None, src_vocab_size)) #영어 문자 종류의 개수 (입력되는 문장의 길이가 모두 다르기 때문에 None으로 설정)\n",
        "encoder_lstm = LSTM(units=256, return_state=True) #각각의 LSTM 셀의 출력 차원은 256, 마지막 LSTM 셀에서의 상태정보 출력\n",
        "\n",
        "# encoder_outputs은 여기서는 불필요 - state_h, state_c를 통해 Context Vector을 넘겨준다. \n",
        "encoder_outputs, state_h, state_c = encoder_lstm(encoder_inputs)\n",
        "\n",
        "# LSTM은 바닐라 RNN과는 달리 상태가 두 개. 은닉 상태와 셀 상태.\n",
        "encoder_states = [state_h, state_c] #이게 결국 Context Vector"
      ]
    },
    {
      "cell_type": "markdown",
      "metadata": {},
      "source": [
        "#### 디코더 설계"
      ]
    },
    {
      "cell_type": "code",
      "execution_count": 28,
      "metadata": {
        "id": "keZfw7g2irvK"
      },
      "outputs": [],
      "source": [
        "## (None, 104)을 가진 불어 문자 하나하나를 디코더 LSTM 셀에 넘긴다. \n",
        "dec_inputs = Input(shape=(None, tar_vocab_size))\n",
        "# 모든 Cell에서 출력을 내보내기 위해 return_sequences는 True로 설정한다. (번역)\n",
        "dec_lstm = LSTM(units=256, return_sequences=True, return_state=True)\n",
        "\n",
        "# 디코더에게 인코더의 은닉 상태, 셀 상태를 전달. (예측을 하는 값을 출력하는 거라 상태정보는 따로 필요 없다. - 생각해보니 Context Vector 넘겨주는거 아니잖음)\n",
        "dec_outputs, _, _= dec_lstm(dec_inputs, initial_state=encoder_states)\n",
        "\n",
        "#각각의 LSTM 셀에서 출력은 256차원, Fully Connected - 단어 종류 104개의 노드와 출력층 256개의 노드가 연결이 1:1로 된다. (이게 Dense) \n",
        "#104개의 값들에 대한 확률 구하고 최대 확률에 해당하는 문자 1개를 출력한다. \n",
        "dec_softmax_layer = Dense(tar_vocab_size, activation='softmax')\n",
        "dec_outputs = dec_softmax_layer(dec_outputs)"
      ]
    },
    {
      "cell_type": "markdown",
      "metadata": {},
      "source": [
        "#### 모델 설계"
      ]
    },
    {
      "cell_type": "code",
      "execution_count": null,
      "metadata": {},
      "outputs": [],
      "source": [
        "model = Model(x = [encoder_inputs, dec_inputs], y = dec_outputs) #X 데이터(인코더, 디코더 입력), Y 데이터(디코더 출력)(정답) 넣어주기 \n",
        "model.compile(optimizer=\"rmsprop\", loss=\"categorical_crossentropy\")"
      ]
    },
    {
      "cell_type": "code",
      "execution_count": 29,
      "metadata": {
        "colab": {
          "base_uri": "https://localhost:8080/"
        },
        "id": "q82rA2Ixisor",
        "outputId": "81b3ea98-cc46-4df3-9ad8-4217fbc6746c"
      },
      "outputs": [
        {
          "name": "stdout",
          "output_type": "stream",
          "text": [
            "750/750 [==============================] - 343s 454ms/step - loss: 0.8459 - val_loss: 0.7730\n"
          ]
        },
        {
          "data": {
            "text/plain": [
              "<keras.src.callbacks.History at 0x1dab7427fd0>"
            ]
          },
          "execution_count": 29,
          "metadata": {},
          "output_type": "execute_result"
        }
      ],
      "source": [
        "model.fit(x=[encoder_input, dec_input], y=dec_target, batch_size=64, epochs=1, validation_split=0.2)"
      ]
    },
    {
      "cell_type": "markdown",
      "metadata": {},
      "source": [
        "### TEST"
      ]
    },
    {
      "cell_type": "markdown",
      "metadata": {},
      "source": [
        "#### 인코더 설계"
      ]
    },
    {
      "cell_type": "code",
      "execution_count": 30,
      "metadata": {
        "id": "PvAzKE5divNi"
      },
      "outputs": [],
      "source": [
        "encoder_model = Model(inputs=encoder_inputs, outputs=encoder_states) #인코더 입력, Context Vector 출력"
      ]
    },
    {
      "cell_type": "code",
      "execution_count": 31,
      "metadata": {
        "colab": {
          "base_uri": "https://localhost:8080/"
        },
        "id": "OssDkukziwpK",
        "outputId": "b0327233-77e1-42f6-d223-d22c960ec2f7"
      },
      "outputs": [
        {
          "name": "stdout",
          "output_type": "stream",
          "text": [
            "Model: \"model_1\"\n",
            "_________________________________________________________________\n",
            " Layer (type)                Output Shape              Param #   \n",
            "=================================================================\n",
            " input_1 (InputLayer)        [(None, None, 80)]        0         \n",
            "                                                                 \n",
            " lstm (LSTM)                 [(None, 256),             345088    \n",
            "                              (None, 256),                       \n",
            "                              (None, 256)]                       \n",
            "                                                                 \n",
            "=================================================================\n",
            "Total params: 345088 (1.32 MB)\n",
            "Trainable params: 345088 (1.32 MB)\n",
            "Non-trainable params: 0 (0.00 Byte)\n",
            "_________________________________________________________________\n"
          ]
        }
      ],
      "source": [
        "encoder_model.summary()"
      ]
    },
    {
      "cell_type": "markdown",
      "metadata": {},
      "source": [
        "#### 디코더 설계"
      ]
    },
    {
      "cell_type": "code",
      "execution_count": 32,
      "metadata": {
        "id": "rnBYHCbOizSi"
      },
      "outputs": [],
      "source": [
        "#이건 그냥 정의하는거니까 실제 모델이랑 직접적 연관 없는거임\n",
        "# 이전 시점의 상태들을 저장하는 텐서\n",
        "dec_state_input_h = Input(shape=(256,))\n",
        "dec_state_input_c = Input(shape=(256,))\n",
        "dec_states_inputs = [dec_state_input_h, dec_state_input_c] #이게 다음 LSTM Cell로 넘어간다. - 이전 시점 상태를 초기 상태로 사용하기 위해서 \n",
        "\n",
        "# 문장의 다음 단어를 예측하기 위해서 초기 상태(initial_state)를 이전 시점의 상태로 사용.\n",
        "# 뒤의 함수 decode_sequence()에 동작을 구현 예정\n",
        "dec_outputs, state_h, state_c = dec_lstm(dec_inputs, initial_state=dec_states_inputs) #상태정보랑 dec_outputs(예측값)이 나온다. \n",
        "\n",
        "#여기가 가장 중요한 부분인거지 ! (이게 찐모델 설계)\n",
        "# 훈련 과정에서와 달리 LSTM의 리턴하는 은닉 상태와 셀 상태를 버리지 않음. (왜 안버림? - 이걸 통해서 예측하니까? - 문맥같은거 보려고? - 다음 시점의 초기값으로 사용되니까..)\n",
        "dec_states = [state_h, state_c]\n",
        "dec_outputs = dec_softmax_layer(dec_outputs) #최대 확률의 글자를 출력\n",
        "dec_model = Model(inputs=[dec_inputs] + dec_states_inputs, outputs=[dec_outputs] + dec_states) #다음 상태정보 정의 "
      ]
    },
    {
      "cell_type": "code",
      "execution_count": 33,
      "metadata": {
        "id": "tYMVxO_MgT-6"
      },
      "outputs": [],
      "source": [
        "index_to_src = dict((i, char) for char, i in src_to_index.items())\n",
        "index_to_tar = dict((i, char) for char, i in tar_to_index.items())"
      ]
    },
    {
      "cell_type": "markdown",
      "metadata": {},
      "source": [
        "#### 함수 다시보기 !!!!!"
      ]
    },
    {
      "cell_type": "code",
      "execution_count": 34,
      "metadata": {
        "id": "w9WAlasJgVbK"
      },
      "outputs": [],
      "source": [
        "def decode_sequence(input_seq):\n",
        "  # 입력으로부터 인코더의 상태를 얻음\n",
        "  states_value = encoder_model.predict(input_seq) #encoder 입력값을 통해 Context Vector을 얻는 거임 \n",
        "\n",
        "  # <SOS>에 해당하는 원-핫 벡터 생성\n",
        "  # 이 벡터를 통해 다음에 이어지는 시퀀스 생성\n",
        "  target_seq = np.zeros((1, 1, tar_vocab_size)) \n",
        "  target_seq[0, 0, tar_to_index['\\t']] = 1.\n",
        "\n",
        "  stop_condition = False #True가 되는 시점은 <eos>를 만났을 때임\n",
        "  dec_sentence = \"\"\n",
        "\n",
        "  # <eos>를 만나기 전까지 반복하기 \n",
        "  while not stop_condition:\n",
        "    # 이점 시점의 상태 states_value를 현 시점의 초기 상태로 사용 (이건 첫번째만 .. target_seq: 전에 예측한 문자랑 이전 시점 상태정보를 가지고 다음 문자를 예측하도록 한다.)\n",
        "    # 즉, 이전 예측 상태 정보 + Encoder의 Context Vector 를 통해 다음 문자 예측 !!!! (이게 중요한 것)\n",
        "    output_tokens, h, c = dec_model.predict([target_seq] + states_value)\n",
        "\n",
        "    # 예측 결과를 문자로 변환\n",
        "    sampled_token_index = np.argmax(output_tokens[0, -1, :]) #104개의 단어 중 가장 확률이 큰 값을 뽑아낸다. - 현재 시점 예측 확률\n",
        "    sampled_char = index_to_tar[sampled_token_index] #가장 확률이 큰 값에 대한 문자를 smapled_char에 저장한다. \n",
        "\n",
        "    # 현재 시점의 예측 문자를 예측 문장에 추가 (결국 다 모이면 단어 1개인거임 - 문자 한개씩 예측했으니까 ..)\n",
        "    dec_sentence += sampled_char\n",
        "\n",
        "    # <eos>에 도달하거나 최대 길이를 넘으면 중단. (<eos> = '\\n')\n",
        "    if (sampled_char == '\\n' or\n",
        "        len(dec_sentence) > max_tar_len):\n",
        "        stop_condition = True\n",
        "\n",
        "    # 현재 시점의 예측 결과를 다음 시점의 입력으로 사용하기 위해 저장\n",
        "    # 원-핫 벡터 생성\n",
        "    target_seq = np.zeros((1, 1, tar_vocab_size))\n",
        "    # 단어에 대한 정보\n",
        "    target_seq[0, 0, sampled_token_index] = 1. #다음 예측에 이전 시점 상태 정보를 사용하기 위해 방금의 문자 정보를 저장하는 거임\n",
        "\n",
        "    # 상태에 대한 정보\n",
        "    # 현재 시점의 상태를 다음 시점의 상태로 사용하기 위해 저장 - Test에서는 은닉, 셀 상태 버리지 X\n",
        "    states_value = [h, c]\n",
        "\n",
        "  return dec_sentence"
      ]
    },
    {
      "cell_type": "markdown",
      "metadata": {},
      "source": [
        "df.src[3] = 'Go.'\n",
        "'Go.'가 encoder에 들어가서 decoder로 예측값이 출력된다."
      ]
    },
    {
      "cell_type": "code",
      "execution_count": 35,
      "metadata": {
        "colab": {
          "base_uri": "https://localhost:8080/"
        },
        "id": "iGLAMcZSgWaq",
        "outputId": "00a79abb-076d-4f8e-a51b-241a0d6a676a"
      },
      "outputs": [
        {
          "name": "stdout",
          "output_type": "stream",
          "text": [
            "1/1 [==============================] - 1s 534ms/step\n",
            "1/1 [==============================] - 0s 457ms/step\n",
            "1/1 [==============================] - 0s 21ms/step\n",
            "1/1 [==============================] - 0s 34ms/step\n",
            "1/1 [==============================] - 0s 33ms/step\n",
            "1/1 [==============================] - 0s 32ms/step\n",
            "1/1 [==============================] - 0s 24ms/step\n",
            "1/1 [==============================] - 0s 26ms/step\n",
            "1/1 [==============================] - 0s 29ms/step\n",
            "1/1 [==============================] - 0s 24ms/step\n",
            "1/1 [==============================] - 0s 24ms/step\n",
            "1/1 [==============================] - 0s 33ms/step\n",
            "1/1 [==============================] - 0s 40ms/step\n",
            "1/1 [==============================] - 0s 42ms/step\n",
            "1/1 [==============================] - 0s 44ms/step\n",
            "1/1 [==============================] - 0s 34ms/step\n",
            "1/1 [==============================] - 0s 34ms/step\n",
            "1/1 [==============================] - 0s 26ms/step\n",
            "1/1 [==============================] - 0s 32ms/step\n",
            "1/1 [==============================] - 0s 24ms/step\n",
            "1/1 [==============================] - 0s 32ms/step\n",
            "-----------------------------------\n",
            "입력 문장: Go.\n",
            "정답 문장: Bouge ! \n",
            "번역 문장: Je me mais pait ? \n",
            "1/1 [==============================] - 0s 27ms/step\n",
            "1/1 [==============================] - 0s 34ms/step\n",
            "1/1 [==============================] - 0s 24ms/step\n",
            "1/1 [==============================] - 0s 26ms/step\n",
            "1/1 [==============================] - 0s 36ms/step\n",
            "1/1 [==============================] - 0s 30ms/step\n",
            "1/1 [==============================] - 0s 32ms/step\n",
            "1/1 [==============================] - 0s 24ms/step\n",
            "1/1 [==============================] - 0s 37ms/step\n",
            "1/1 [==============================] - 0s 24ms/step\n",
            "1/1 [==============================] - 0s 34ms/step\n",
            "1/1 [==============================] - 0s 32ms/step\n",
            "1/1 [==============================] - 0s 32ms/step\n",
            "1/1 [==============================] - 0s 27ms/step\n",
            "1/1 [==============================] - 0s 32ms/step\n",
            "1/1 [==============================] - 0s 28ms/step\n",
            "1/1 [==============================] - 0s 33ms/step\n",
            "1/1 [==============================] - 0s 32ms/step\n",
            "1/1 [==============================] - 0s 26ms/step\n",
            "1/1 [==============================] - 0s 24ms/step\n",
            "1/1 [==============================] - 0s 33ms/step\n",
            "-----------------------------------\n",
            "입력 문장: Hello!\n",
            "정답 문장: Bonjour ! \n",
            "번역 문장: Je me mais pait ? \n",
            "1/1 [==============================] - 0s 40ms/step\n",
            "1/1 [==============================] - 0s 43ms/step\n",
            "1/1 [==============================] - 0s 24ms/step\n",
            "1/1 [==============================] - 0s 30ms/step\n",
            "1/1 [==============================] - 0s 32ms/step\n",
            "1/1 [==============================] - 0s 32ms/step\n",
            "1/1 [==============================] - 0s 30ms/step\n",
            "1/1 [==============================] - 0s 24ms/step\n",
            "1/1 [==============================] - 0s 33ms/step\n",
            "1/1 [==============================] - 0s 32ms/step\n",
            "1/1 [==============================] - 0s 35ms/step\n",
            "1/1 [==============================] - 0s 32ms/step\n",
            "1/1 [==============================] - 0s 40ms/step\n",
            "1/1 [==============================] - 0s 24ms/step\n",
            "1/1 [==============================] - 0s 38ms/step\n",
            "1/1 [==============================] - 0s 26ms/step\n",
            "1/1 [==============================] - 0s 32ms/step\n",
            "1/1 [==============================] - 0s 34ms/step\n",
            "1/1 [==============================] - 0s 33ms/step\n",
            "1/1 [==============================] - 0s 28ms/step\n",
            "1/1 [==============================] - 0s 33ms/step\n",
            "-----------------------------------\n",
            "입력 문장: Got it!\n",
            "정답 문장: J'ai pigé ! \n",
            "번역 문장: Je me mais pait ? \n",
            "1/1 [==============================] - 0s 32ms/step\n",
            "1/1 [==============================] - 0s 24ms/step\n",
            "1/1 [==============================] - 0s 32ms/step\n",
            "1/1 [==============================] - 0s 25ms/step\n",
            "1/1 [==============================] - 0s 32ms/step\n",
            "1/1 [==============================] - 0s 32ms/step\n",
            "1/1 [==============================] - 0s 36ms/step\n",
            "1/1 [==============================] - 0s 40ms/step\n",
            "1/1 [==============================] - 0s 32ms/step\n",
            "1/1 [==============================] - 0s 34ms/step\n",
            "1/1 [==============================] - 0s 24ms/step\n",
            "1/1 [==============================] - 0s 24ms/step\n",
            "1/1 [==============================] - 0s 32ms/step\n",
            "1/1 [==============================] - 0s 32ms/step\n",
            "1/1 [==============================] - 0s 32ms/step\n",
            "1/1 [==============================] - 0s 36ms/step\n",
            "1/1 [==============================] - 0s 33ms/step\n",
            "1/1 [==============================] - 0s 33ms/step\n",
            "1/1 [==============================] - 0s 32ms/step\n",
            "1/1 [==============================] - 0s 32ms/step\n",
            "1/1 [==============================] - 0s 23ms/step\n",
            "-----------------------------------\n",
            "입력 문장: Go home.\n",
            "정답 문장: Rentre à la maison. \n",
            "번역 문장: Je me mais pait ? \n",
            "1/1 [==============================] - 0s 32ms/step\n",
            "1/1 [==============================] - 0s 36ms/step\n",
            "1/1 [==============================] - 0s 29ms/step\n",
            "1/1 [==============================] - 0s 38ms/step\n",
            "1/1 [==============================] - 0s 32ms/step\n",
            "1/1 [==============================] - 0s 34ms/step\n",
            "1/1 [==============================] - 0s 31ms/step\n",
            "1/1 [==============================] - 0s 32ms/step\n",
            "1/1 [==============================] - 0s 32ms/step\n",
            "1/1 [==============================] - 0s 23ms/step\n",
            "1/1 [==============================] - 0s 24ms/step\n",
            "1/1 [==============================] - 0s 31ms/step\n",
            "1/1 [==============================] - 0s 33ms/step\n",
            "1/1 [==============================] - 0s 32ms/step\n",
            "1/1 [==============================] - 0s 19ms/step\n",
            "1/1 [==============================] - 0s 28ms/step\n",
            "1/1 [==============================] - 0s 34ms/step\n",
            "1/1 [==============================] - 0s 20ms/step\n",
            "1/1 [==============================] - 0s 24ms/step\n",
            "1/1 [==============================] - 0s 24ms/step\n",
            "1/1 [==============================] - 0s 48ms/step\n",
            "-----------------------------------\n",
            "입력 문장: Get going.\n",
            "정답 문장: En avant. \n",
            "번역 문장: Je me mais pait ? \n"
          ]
        }
      ],
      "source": [
        "for seq_index in [3,50,100,300,1001]: # 입력 문장의 인덱스\n",
        "  input_seq = encoder_input[seq_index:seq_index+1] \n",
        "  dec_sentence = decode_sequence(input_seq)\n",
        "  print(35 * \"-\")\n",
        "  print('입력 문장:', df.src[seq_index])\n",
        "  print('정답 문장:', df.tar[seq_index][2:len(df.tar[seq_index])-1]) # '\\t'와 '\\n'을 빼고 출력\n",
        "  print('번역 문장:', dec_sentence[1:len(dec_sentence)-1]) # '\\n'을 빼고 출력"
      ]
    },
    {
      "cell_type": "markdown",
      "metadata": {},
      "source": [
        "원래 단어 단위로 번역하는게 맞으니까 문자 말고 단어로 하는게 원래 맞지만 그냥 경험 삼아서 한거임 ....\n",
        "꼭 <sos>가 필요한 건 아니지만, <eos>가 있어야지 단어가 무한으로 생성 안되지 .."
      ]
    }
  ],
  "metadata": {
    "accelerator": "GPU",
    "colab": {
      "provenance": []
    },
    "kernelspec": {
      "display_name": "Python 3",
      "name": "python3"
    },
    "language_info": {
      "codemirror_mode": {
        "name": "ipython",
        "version": 3
      },
      "file_extension": ".py",
      "mimetype": "text/x-python",
      "name": "python",
      "nbconvert_exporter": "python",
      "pygments_lexer": "ipython3",
      "version": "3.10.9"
    }
  },
  "nbformat": 4,
  "nbformat_minor": 0
}
