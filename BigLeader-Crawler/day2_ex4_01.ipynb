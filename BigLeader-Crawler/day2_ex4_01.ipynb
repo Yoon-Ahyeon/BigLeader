{
 "cells": [
  {
   "cell_type": "code",
   "execution_count": 1,
   "metadata": {},
   "outputs": [],
   "source": [
    "from bs4 import BeautifulSoup\n",
    "import chromedriver_autoinstaller\n",
    "from selenium import webdriver\n",
    "from selenium.webdriver.common.keys import Keys\n",
    "from selenium.webdriver.common.by import By\n",
    "import urllib.request\n",
    "import time, os"
   ]
  },
  {
   "cell_type": "code",
   "execution_count": 15,
   "metadata": {},
   "outputs": [],
   "source": [
    "query_text = input(\"1. 검색어를 입력하세요:\")\n",
    "cnt = int(input('2. 크롤링 할 건수는?: '))\n",
    "\n",
    "driver = webdriver.Chrome()\n",
    "driver.get(f\"https://search.naver.com/search.naver?where=blog&sm=tab_viw.blog&query={query_text}&nso=\")\n",
    "\n",
    "#필요한 만큼의 정보만 읽어주기 위함 \n",
    "# iterator_num = cnt // 30 + 1\n",
    "import math \n",
    "iterator_num = math.ceil(cnt/30)\n",
    "\n",
    "for _ in range(iterator_num):\n",
    "        time.sleep(1)\n",
    "        driver.find_element(By.XPATH, '//body').send_keys(Keys.END)\n",
    "\n",
    "soup = BeautifulSoup(driver.page_source, 'html.parser')\n",
    "\n",
    "title = soup.find('div', class_ = '_more_contents_event_base').find_all('a', 'api_txt_lines total_tit')\n",
    "\n",
    "driver.close()"
   ]
  },
  {
   "cell_type": "code",
   "execution_count": 16,
   "metadata": {},
   "outputs": [
    {
     "name": "stdout",
     "output_type": "stream",
     "text": [
      "데이터 수집을 완료했습니다.\n",
      "수집 결과는 c:/py_temp/Naver_Bolg_Title.txt에 저장했습니다.\n"
     ]
    }
   ],
   "source": [
    "#출력하기 \n",
    "\n",
    "import sys\n",
    "f_name = 'c:/py_temp/Naver_Bolg_Title.txt'\n",
    "\n",
    "#현재의 표준 출력 방향 저장  (f_origin 변수에 저장하겠다.)\n",
    "f_origin = sys.stdout \n",
    "\n",
    "#file을 오픈하는 과정을 'file'이라는 별칭을 사용하겠다. \n",
    "#'a'는 기존 내용을 저장하면서 새로운 내용을 추가하겠다. (파일 내용 유지)\n",
    "#'w'는 기존에 있던 내용들을 다 지우고 새로 작성하겠다. (파일 내용 삭제)\n",
    "with open(f_name, 'w', encoding='UTF-8') as file: \n",
    "\n",
    "    #표준 출력 방향 - 지정된 파일로 텍스트를 입력하겠다. \n",
    "    sys.stdout = file\n",
    "\n",
    "    count = 0\n",
    "\n",
    "    for i in title:\n",
    "        print(i.get_text().strip())\n",
    "        count += 1\n",
    "        if count == cnt :\n",
    "            break\n",
    "\n",
    "#출력된 내용을 변수에 저장하겠다. \n",
    "sys.stdout = f_origin\n",
    "\n",
    "print('데이터 수집을 완료했습니다.')\n",
    "print('수집 결과는 %s에 저장했습니다.'%f_name)"
   ]
  }
 ],
 "metadata": {
  "kernelspec": {
   "display_name": "base",
   "language": "python",
   "name": "python3"
  },
  "language_info": {
   "codemirror_mode": {
    "name": "ipython",
    "version": 3
   },
   "file_extension": ".py",
   "mimetype": "text/x-python",
   "name": "python",
   "nbconvert_exporter": "python",
   "pygments_lexer": "ipython3",
   "version": "3.10.9"
  },
  "orig_nbformat": 4
 },
 "nbformat": 4,
 "nbformat_minor": 2
}
