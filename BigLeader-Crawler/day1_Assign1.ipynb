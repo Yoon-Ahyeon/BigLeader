{
 "cells": [
  {
   "cell_type": "code",
   "execution_count": 1,
   "metadata": {},
   "outputs": [
    {
     "name": "stdout",
     "output_type": "stream",
     "text": [
      "데이터 수집 완료 !\n",
      "결과는 c:/py_temp/Assignment_Option.txt에 저장했습니다.\n"
     ]
    }
   ],
   "source": [
    "#필수과제 \n",
    "\n",
    "##여름여행을 검색하고 강원 지역만 선택 후 종료하는 코드를 작성하시오.\n",
    "\n",
    "from selenium import webdriver\n",
    "from selenium.webdriver.common.by import By\n",
    "import time, os, sys\n",
    "\n",
    "driver = webdriver.Chrome()\n",
    "\n",
    "#창열기\n",
    "driver.get('https://korean.visitkorea.or.kr/main/main.do')\n",
    "\n",
    "# 전체화면에서 검색창 입력이 안되기 때문에 창을 축소해준다.  \n",
    "driver.set_window_size(800, 768)\n",
    "\n",
    "time.sleep(2)\n",
    "#검색창을 클릭한다. \n",
    "driver.find_element(By.ID, 'inp_search_mo').click() \n",
    "time.sleep(2)\n",
    "\n",
    "#검색창에 \"여름여행\"을 클릭하고 엔터를 치도록 한다. \n",
    "driver.find_element(By.ID, 'inp_search').send_keys('여름여행'+ '\\n') \n",
    "time.sleep(2)\n",
    "\n",
    "#축소한 창을 다시 최대화한다. \n",
    "driver.maximize_window()\n",
    "\n",
    " #필터링을 위해 옵션을 클릭하도록 한다. \n",
    "driver.find_element(By.XPATH, '//*[@id=\"sorting_options\"]/button[4]/span').click()\n",
    "time.sleep(2)\n",
    "\n",
    "#옵션에서 강원을 클릭하도록 한다. \n",
    "driver.find_element(By.XPATH, '//*[@id=\"32\"]/button/span').click()\n",
    "time.sleep(2)\n",
    "\n",
    "#필터링을 적용하기 위해 확인을 클릭하도록 한다. \n",
    "driver.find_element(By.XPATH, '//*[@id=\"contents\"]/div/div[1]/div[3]/div[3]/div[2]/a[1]').click() \n",
    "\n",
    "#선택과제 \n",
    "\n",
    "##강원지역의 제목을 수집하여 저장하는 코드를 작성하시오.\n",
    "from bs4 import BeautifulSoup\n",
    "soup = BeautifulSoup(driver.page_source, 'html.parser')\n",
    "\n",
    "time.sleep(5)\n",
    "\n",
    "#창닫기 \n",
    "driver.close()\n",
    "\n",
    "###웹데이터 파싱해서 저장하기 !!!!\n",
    "#모든 제목을 묶고 있는 클래스 지정 후 제목이 들어가 있는 클래스 찾기 \n",
    "\n",
    "import sys\n",
    "\n",
    "title = soup.find('div', 'box_leftType1').find_all('div', 'tit')\n",
    "\n",
    "f_name = 'c:/py_temp/Assignment_Option.txt'\n",
    "\n",
    "Origin = sys.stdout\n",
    "\n",
    "with open(f_name, 'a', encoding = 'UTF-8') as file:\n",
    "    sys.stdout = file\n",
    "\n",
    "    for i in title:\n",
    "        print(i.get_text().strip())\n",
    "\n",
    "sys.stdout = Origin\n",
    "\n",
    "print('데이터 수집 완료 !')\n",
    "print('결과는 %s에 저장했습니다.'%f_name)"
   ]
  }
 ],
 "metadata": {
  "kernelspec": {
   "display_name": "base",
   "language": "python",
   "name": "python3"
  },
  "language_info": {
   "codemirror_mode": {
    "name": "ipython",
    "version": 3
   },
   "file_extension": ".py",
   "mimetype": "text/x-python",
   "name": "python",
   "nbconvert_exporter": "python",
   "pygments_lexer": "ipython3",
   "version": "3.10.9"
  },
  "orig_nbformat": 4
 },
 "nbformat": 4,
 "nbformat_minor": 2
}
