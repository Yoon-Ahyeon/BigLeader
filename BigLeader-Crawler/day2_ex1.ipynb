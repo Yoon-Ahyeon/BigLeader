{
 "cells": [
  {
   "cell_type": "markdown",
   "metadata": {},
   "source": [
    "#### 속성값을 사용하여 조회하기"
   ]
  },
  {
   "cell_type": "code",
   "execution_count": 19,
   "metadata": {},
   "outputs": [],
   "source": [
    "#속성값을 사용하여 조회하기 \n",
    "from bs4 import BeautifulSoup\n",
    "\n",
    "ex1 = '''\n",
    "    <html>\n",
    "        <head>\n",
    "            <title> HTML 연습 </title>\n",
    "        </head>\n",
    "    <body>\n",
    "        <p align=\"center\"> text 1 </p>\n",
    "        <p align=\"right\"> text 2 </p>\n",
    "        <p align=\"left\"> text 3 </p>\n",
    "        <img src=\"c:\\\\temp\\\\image\\\\솔개.png\">\n",
    "    </body>\n",
    "    <html> '''"
   ]
  },
  {
   "cell_type": "code",
   "execution_count": 20,
   "metadata": {},
   "outputs": [
    {
     "name": "stdout",
     "output_type": "stream",
     "text": [
      "<p align=\"center\"> text 1 </p>\n",
      "<p align=\"right\"> text 2 </p>\n"
     ]
    }
   ],
   "source": [
    "#현재페이지에서 content에 있는 모든 데이터 값을 가져온다. \n",
    "#'html.parser'은 html을 파싱한다는 의미\n",
    "\n",
    "soup = BeautifulSoup(ex1, 'html.parser')\n",
    "print( soup.find('p') )\n",
    "print( soup.find('p',align=\"right\") )"
   ]
  },
  {
   "cell_type": "code",
   "execution_count": 21,
   "metadata": {},
   "outputs": [
    {
     "name": "stdout",
     "output_type": "stream",
     "text": [
      "<p align=\"right\"> text 2 </p>\n",
      " text 2 \n",
      "text 2\n"
     ]
    }
   ],
   "source": [
    "#soup.find('태그명', 속성명 = 속성값)\n",
    "#<p>태그에서 오른쪽에 정렬된 값을 가져온다. \n",
    "print(soup.find('p', align = 'right'))\n",
    "\n",
    "#text(내용)만 가져온다. \n",
    "print(soup.find('p', align = 'right').get_text())\n",
    "\n",
    "#양쪽 공백 제거 \n",
    "print(soup.find('p', align = 'right').get_text().strip())"
   ]
  },
  {
   "cell_type": "code",
   "execution_count": 22,
   "metadata": {},
   "outputs": [
    {
     "data": {
      "text/plain": [
       "'text 2'"
      ]
     },
     "execution_count": 22,
     "metadata": {},
     "output_type": "execute_result"
    }
   ],
   "source": [
    "#모든 데이터 값들을 다 가져온다.\n",
    "#인덱스 사용 가능 (인덱스는 0부터 시작한다.)\n",
    "soup.find_all('p')[1].get_text().strip()"
   ]
  },
  {
   "cell_type": "code",
   "execution_count": 23,
   "metadata": {},
   "outputs": [
    {
     "name": "stdout",
     "output_type": "stream",
     "text": [
      " text 1 \n",
      " text 2 \n",
      " text 3 \n"
     ]
    }
   ],
   "source": [
    "#데이터들을 다 추출하는 방법\n",
    "for i in soup.find_all('p'):\n",
    "    print(i.get_text())"
   ]
  },
  {
   "cell_type": "code",
   "execution_count": 15,
   "metadata": {},
   "outputs": [
    {
     "name": "stdout",
     "output_type": "stream",
     "text": [
      "txt 1\n",
      "txt 2\n",
      "txt 3\n"
     ]
    }
   ],
   "source": [
    "#text 글자를 txt로 치환해서 출력\n",
    "for i in soup.find_all('p'):\n",
    "    print(i.get_text().strip().replace('text','txt'))"
   ]
  },
  {
   "cell_type": "code",
   "execution_count": 24,
   "metadata": {},
   "outputs": [
    {
     "name": "stdout",
     "output_type": "stream",
     "text": [
      "1 text 1\n",
      "2 text 2\n",
      "3 text 3\n"
     ]
    }
   ],
   "source": [
    "x = soup.find_all('p')\n",
    "for idx, i in enumerate(x, start = 1):\n",
    "    print(idx, i.get_text().strip())"
   ]
  },
  {
   "cell_type": "markdown",
   "metadata": {},
   "source": [
    "##파싱 하는 방법\n",
    "\n",
    "BeautifulSoup(markup, 'html.parser') \n",
    "\n",
    "다른 방법도 있지만 잘 사용하지 않는다. "
   ]
  }
 ],
 "metadata": {
  "kernelspec": {
   "display_name": "base",
   "language": "python",
   "name": "python3"
  },
  "language_info": {
   "codemirror_mode": {
    "name": "ipython",
    "version": 3
   },
   "file_extension": ".py",
   "mimetype": "text/x-python",
   "name": "python",
   "nbconvert_exporter": "python",
   "pygments_lexer": "ipython3",
   "version": "3.10.9"
  },
  "orig_nbformat": 4
 },
 "nbformat": 4,
 "nbformat_minor": 2
}
