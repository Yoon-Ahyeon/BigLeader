{
 "cells": [
  {
   "cell_type": "code",
   "execution_count": 51,
   "metadata": {},
   "outputs": [],
   "source": [
    "from bs4 import BeautifulSoup\n",
    "import chromedriver_autoinstaller\n",
    "from selenium import webdriver\n",
    "from selenium.webdriver.common.keys import Keys\n",
    "from selenium.webdriver.common.by import By\n",
    "import urllib.request\n",
    "import time, os\n",
    "import sys\n",
    "import math"
   ]
  },
  {
   "cell_type": "code",
   "execution_count": 61,
   "metadata": {},
   "outputs": [
    {
     "name": "stdout",
     "output_type": "stream",
     "text": [
      "1 부산강아지분양 벌써부터 설레\n",
      "2 인천강아지분양 되찾은 활력\n",
      "3 부산강아지분양 충분한 가치\n",
      "4 광주강아지분양 새로운 매력\n",
      "5 인천강아지분양 배로 즐거워\n",
      "6 광주강아지분양 색다른 매력\n",
      "7 부산강아지분양 스며들어\n",
      "8 광주강아지분양 고민 끝에 결정!\n",
      "9 부산강아지분양 알아봤어요.\n",
      "10 창원강아지분양 내비친 마음\n",
      "11 명쾌했던 부산강아지분양\n",
      "12 천안강아지분양 당일절차의경우\n",
      "13 창원강아지무료분양 바라던 결과\n",
      "14 부산강아지분양 변함없어\n",
      "15 부산강아지분양 바뀐 인식\n",
      "16 부산강아지분양 건강의 증표\n",
      "17 수원강아지분양 한방에\n",
      "18 부산강아지분양 신경써서\n",
      "19 대전강아지분양 마음도 달래며\n",
      "20 창원강아지분양 감동 받은 퍼피로그\n",
      "21 광주강아지분양 행복했어\n",
      "22 창원강아지분양 사로잡혔어\n",
      "23 인천강아지분양 매력만점!\n",
      "24 우리집 댕댕이 기관지를 위한 강아지 사료 추천\n",
      "25 대전강아지분양 존재감 발산\n",
      "26 강아지 설사할때 한포로 해결했어요\n",
      "27 부산강아지분양 고마울뿐\n",
      "28 부산강아지분양 유익했지\n",
      "29 창원강아지분양 중요점\n",
      "30 강아지 더울때 펫밀크를 활용해 보세요~\n"
     ]
    }
   ],
   "source": [
    "query_text = input(\"1. 검색어를 입력하세요: \")\n",
    "cnt = int(input(\"2. 크롤링 할 건수는?: \"))\n",
    "\n",
    "driver = webdriver.Chrome()\n",
    "base_link_1 = \"https://section.blog.naver.com/Search/Post.naver?pageNo=\"\n",
    "base_link_2 = \"&rangeType=ALL&orderBy=sim&keyword=\"\n",
    "\n",
    "num_posts_per_page = 7  # 페이지 당 노출되는 게시물 수\n",
    "\n",
    "iterator_num = math.ceil(cnt / num_posts_per_page)\n",
    "\n",
    "title_list = []\n",
    "\n",
    "for i in range(iterator_num):\n",
    "    path = base_link_1 + str(i+1) + base_link_2 + query_text\n",
    "    driver.get(path)\n",
    "    time.sleep(3)\n",
    "    \n",
    "    soup = BeautifulSoup(driver.page_source, 'html.parser')\n",
    "    \n",
    "    page_title = soup.find_all('span', class_='title')\n",
    "    \n",
    "    for k in page_title:\n",
    "        title_list.append(k.getText()) \n",
    "    \n",
    "driver.close()\n",
    "\n"
   ]
  },
  {
   "cell_type": "code",
   "execution_count": 62,
   "metadata": {},
   "outputs": [
    {
     "name": "stdout",
     "output_type": "stream",
     "text": [
      "데이터 수집을 완료했습니다.\n",
      "수집 결과는 c:/py_temp/Naver_Bolg_Title_2.txt에 저장했습니다.\n"
     ]
    }
   ],
   "source": [
    "import sys\n",
    "f_name = 'c:/py_temp/Naver_Bolg_Title_2.txt'\n",
    "\n",
    "f_origin = sys.stdout \n",
    "\n",
    "count = 0\n",
    "\n",
    "with open(f_name, 'w', encoding='UTF-8') as file: \n",
    "\n",
    "    sys.stdout = file\n",
    "\n",
    "    for save_title in (title_list):\n",
    "        print(save_title)\n",
    "        count += 1\n",
    "        if count == cnt:\n",
    "            break\n",
    "\n",
    "#출력된 내용을 변수에 저장하겠다. \n",
    "sys.stdout = f_origin\n",
    "\n",
    "print('데이터 수집을 완료했습니다.')\n",
    "print('수집 결과는 %s에 저장했습니다.'%f_name)"
   ]
  }
 ],
 "metadata": {
  "kernelspec": {
   "display_name": "base",
   "language": "python",
   "name": "python3"
  },
  "language_info": {
   "codemirror_mode": {
    "name": "ipython",
    "version": 3
   },
   "file_extension": ".py",
   "mimetype": "text/x-python",
   "name": "python",
   "nbconvert_exporter": "python",
   "pygments_lexer": "ipython3",
   "version": "3.10.9"
  },
  "orig_nbformat": 4
 },
 "nbformat": 4,
 "nbformat_minor": 2
}
