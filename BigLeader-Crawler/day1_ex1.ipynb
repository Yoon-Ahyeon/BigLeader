{
 "cells": [
  {
   "cell_type": "code",
   "execution_count": 17,
   "metadata": {},
   "outputs": [],
   "source": [
    "from selenium import webdriver\n",
    "# import chromedriver_autoinstaller as ca\n",
    "from selenium.webdriver.common.by import By\n",
    "import time, os, sys\n",
    "\n",
    "#크롬 브라우저를 제어하는 driver 변수\n",
    "driver = webdriver.Chrome()\n",
    "\n",
    "#웹사이트 오픈하기\n",
    "driver.get('https://www.riss.kr')\n",
    "#윈도우 창으로 최대로 띄우기\n",
    "#반응형 웹사이트 경우, element 위치 같은 것들이 변경되기 쉽기 때문에 기본적인 사이트를 맞춰놓고 시작한다. \n",
    "driver.maximize_window()\n",
    "\n",
    "#새 창(팝업창) 제어하기\n",
    "main = driver.window_handles #열린 창의 개수 저장\n",
    "\n",
    "#첫번째로 뜨는 창은 MAIN창\n",
    "for handle in main:\n",
    "    if handle != main[0] :\n",
    "        driver.switch_to.window(handle) #저장한 개수만큼 창을 이동한다. (다음 창으로 이동한다?)\n",
    "        time.sleep(1)\n",
    "        driver.close()\n",
    "\n",
    "driver.switch_to.window(main[0])\n",
    "\n",
    "#검색창에 검색어 넣기\n",
    "\n",
    "time.sleep(2)\n",
    "#Id=query(검색창)에 빅데이터라고 입력한다. (개행문자 '\\n'은 엔터키 입력을 의미한다.)\n",
    "driver.find_element(By.ID, 'query').send_keys('빅데이터'+ '\\n') \n",
    "# driver.find_element(By.ID, 'query').clear() - 검색창을 지워주는 함수\n",
    "\n",
    "time.sleep(2)\n",
    "#Id와 Name이 없고 text만 존재한다. ; Link Text (웹페이지 어디있든 간에 클릭해준다.)\n",
    "# driver.find_element(By.LINK_TEXT, '국내학술논문').click()\n",
    "\n",
    "#Link_Text가 존재하지 않을 때 사용가능한 만능키 !!! = xPath (절대경로 or 상대경로) - 웹사이트에서 가장 유일한(근접한) 값을 찾는다. \n",
    "driver.find_element(By.XPATH, '//*[@id=\"tabMenu\"]/ul/li/div/ul/li[3]/a').click()\n",
    "\n",
    "#5초 후 웹사이트 닫기\n",
    "time.sleep(5)\n",
    "driver.close()"
   ]
  }
 ],
 "metadata": {
  "kernelspec": {
   "display_name": "base",
   "language": "python",
   "name": "python3"
  },
  "language_info": {
   "codemirror_mode": {
    "name": "ipython",
    "version": 3
   },
   "file_extension": ".py",
   "mimetype": "text/x-python",
   "name": "python",
   "nbconvert_exporter": "python",
   "pygments_lexer": "ipython3",
   "version": "3.10.9"
  },
  "orig_nbformat": 4
 },
 "nbformat": 4,
 "nbformat_minor": 2
}
