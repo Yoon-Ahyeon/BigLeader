{
 "cells": [
  {
   "cell_type": "markdown",
   "metadata": {},
   "source": [
    "### 네이버 이미지 수집하기"
   ]
  },
  {
   "cell_type": "code",
   "execution_count": 8,
   "metadata": {},
   "outputs": [],
   "source": [
    "from bs4 import BeautifulSoup\n",
    "import chromedriver_autoinstaller\n",
    "from selenium import webdriver\n",
    "#키보드로 단축어를 받기 위한 함수 \n",
    "from selenium.webdriver.common.keys import Keys\n",
    "from selenium.webdriver.common.by import By\n",
    "#단축키 요청 \n",
    "import urllib.request\n",
    "import time, os"
   ]
  },
  {
   "cell_type": "code",
   "execution_count": 15,
   "metadata": {},
   "outputs": [],
   "source": [
    "##필요 정보 입력 \n",
    "query_text = input(\"1. 크롤링할 이미지의 키워드:\")\n",
    "cnt = int(input('2. 크롤링 할 건수는?: '))\n",
    "\n",
    "##저장할 폴더 이름 지정\n",
    "now = 'c:/py_temp/' + time.strftime(\"%Y%m%d_%H%M%S\") + '-' + query_text\n",
    "os.makedirs(now)\n",
    "os.chdir(now)\n",
    "\n",
    "##검색을 통해 이미지 데이터 가져오기 \n",
    "driver = webdriver.Chrome()\n",
    "\n",
    "base_link = \"https://search.naver.com/search.naver?where=image&sm=tab_jum&query=\"\n",
    "driver.get(base_link + query_text)\n",
    "\n",
    "#웹페이지를 6번 스크롤 다운을 하기 위해 반복문 사용\n",
    "# _ : 자리는 필요하지만 변수를 굳이 쓸 필요 없을 때 사용\n",
    "for _ in range(6):\n",
    "    time.sleep(1)\n",
    "    driver.find_element(By.XPATH, '//body').send_keys(Keys.END)\n",
    "\n",
    "\n",
    "## 이미지 추출하기 \n",
    "soup = BeautifulSoup(driver.page_source, 'html.parser')\n",
    "\n",
    "img_src = [ ]\n",
    "\n",
    "for i in soup.find_all('img', class_ = '_image _listImage') :\n",
    "    #이미지 속성값 (전체 데이터에서 src 속성값만 빼오겠다.)\n",
    "    img_src.append(i[\"src\"])\n",
    "\n",
    "#이미지 소스 리스트를 반복하여서 인덱스와 이미지를 가져온다. \n",
    "for idx, save_img in enumerate(img_src, start = 1) :\n",
    "    #save_img로 저장된 URL에서 이미지를 다운로드하고 jpg 파일로 저장한다. \n",
    "    urllib.request.urlretrieve(save_img, str(idx) + \".jpg\")\n",
    "    # 전에 입력받은(크롤링 건 수) 값과 동일할 시, 반복문을 종료한다. \n",
    "    if idx == cnt :\n",
    "        break\n",
    "\n",
    "driver.close()"
   ]
  },
  {
   "cell_type": "code",
   "execution_count": 16,
   "metadata": {},
   "outputs": [],
   "source": [
    "##함수로 변경\n",
    "def user_img(name, no):\n",
    "    now = 'c:/py_temp/' + time.strftime(\"%Y%m%d_%H%M%S\") + '-' + name\n",
    "    os.makedirs(now)\n",
    "    os.chdir(now)\n",
    "\n",
    "    ##검색을 통해 이미지 데이터 가져오기 \n",
    "    driver = webdriver.Chrome()\n",
    "    driver.get(f\"https://search.naver.com/search.naver?where=image&sm=tab_jum&query={name}\")\n",
    "\n",
    "    for _ in range(6):\n",
    "        time.sleep(1)\n",
    "        driver.find_element(By.XPATH, '//body').send_keys(Keys.END)\n",
    "\n",
    "    soup = BeautifulSoup(driver.page_source, 'html.parser')\n",
    "\n",
    "    img_src = [ ]\n",
    "\n",
    "    for i in soup.find_all('img', class_ = '_image _listImage') :\n",
    "        img_src.append(i[\"src\"])\n",
    "\n",
    "    for idx, save_img in enumerate(img_src, start = 1) :\n",
    "        urllib.request.urlretrieve(save_img, str(idx) + \".jpg\")\n",
    "        if idx == no :\n",
    "            break\n",
    "\n",
    "    driver.close()"
   ]
  },
  {
   "cell_type": "code",
   "execution_count": 17,
   "metadata": {},
   "outputs": [],
   "source": [
    "user_img('고양이', 50)"
   ]
  }
 ],
 "metadata": {
  "kernelspec": {
   "display_name": "base",
   "language": "python",
   "name": "python3"
  },
  "language_info": {
   "codemirror_mode": {
    "name": "ipython",
    "version": 3
   },
   "file_extension": ".py",
   "mimetype": "text/x-python",
   "name": "python",
   "nbconvert_exporter": "python",
   "pygments_lexer": "ipython3",
   "version": "3.10.9"
  },
  "orig_nbformat": 4
 },
 "nbformat": 4,
 "nbformat_minor": 2
}
